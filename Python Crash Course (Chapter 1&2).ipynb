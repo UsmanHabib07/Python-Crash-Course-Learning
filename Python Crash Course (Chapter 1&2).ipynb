{
 "cells": [
  {
   "cell_type": "markdown",
   "id": "006ad09e",
   "metadata": {},
   "source": [
    "#                                            # CHAPTER 1 & 2"
   ]
  },
  {
   "cell_type": "code",
   "execution_count": 1,
   "id": "c6840088",
   "metadata": {},
   "outputs": [
    {
     "name": "stdout",
     "output_type": "stream",
     "text": [
      "Hello World!\n"
     ]
    }
   ],
   "source": [
    "print(\"Hello World!\")"
   ]
  },
  {
   "cell_type": "code",
   "execution_count": 4,
   "id": "0d06e634",
   "metadata": {},
   "outputs": [
    {
     "name": "stdout",
     "output_type": "stream",
     "text": [
      "Hello Python World!\n"
     ]
    }
   ],
   "source": [
    "print(\"Hello Python World!\")"
   ]
  },
  {
   "cell_type": "code",
   "execution_count": 5,
   "id": "efecbc00",
   "metadata": {},
   "outputs": [
    {
     "data": {
      "text/plain": [
       "'hello python world!'"
      ]
     },
     "execution_count": 5,
     "metadata": {},
     "output_type": "execute_result"
    }
   ],
   "source": [
    "message = \"hello python world!\"\n",
    "message"
   ]
  },
  {
   "cell_type": "code",
   "execution_count": 7,
   "id": "51c8f598",
   "metadata": {},
   "outputs": [
    {
     "name": "stdout",
     "output_type": "stream",
     "text": [
      "hello python world!\n"
     ]
    }
   ],
   "source": [
    "message = \"hello python world!\"\n",
    "print(message)"
   ]
  },
  {
   "cell_type": "raw",
   "id": "a14260ca",
   "metadata": {},
   "source": [
    "2-1. Store a message in a variable, and then print that message."
   ]
  },
  {
   "cell_type": "code",
   "execution_count": 8,
   "id": "276d1eff",
   "metadata": {},
   "outputs": [
    {
     "name": "stdout",
     "output_type": "stream",
     "text": [
      "hello python world!\n"
     ]
    }
   ],
   "source": [
    "message = \"hello python world!\"\n",
    "print(message)\n"
   ]
  },
  {
   "cell_type": "raw",
   "id": "779bb45d",
   "metadata": {},
   "source": [
    "2-2. Simple Messages: Store a message in a variable, and print that message.Then change the value of your variable to a new message, and print the new message.\n"
   ]
  },
  {
   "cell_type": "code",
   "execution_count": 19,
   "id": "3721a61f",
   "metadata": {},
   "outputs": [
    {
     "name": "stdout",
     "output_type": "stream",
     "text": [
      "hello python world!\n",
      "python is important\n"
     ]
    }
   ],
   "source": [
    "message = \"hello python world!\"\n",
    "print(message)\n",
    "\n",
    "message = \"python is important\"\n",
    "print(message)"
   ]
  },
  {
   "cell_type": "code",
   "execution_count": 20,
   "id": "064eaf5d",
   "metadata": {},
   "outputs": [
    {
     "name": "stdout",
     "output_type": "stream",
     "text": [
      "Usman Bin Habib\n"
     ]
    }
   ],
   "source": [
    "name = \"usman bin habib\"\n",
    "print(name.title())"
   ]
  },
  {
   "cell_type": "code",
   "execution_count": 21,
   "id": "617f7e20",
   "metadata": {},
   "outputs": [
    {
     "name": "stdout",
     "output_type": "stream",
     "text": [
      "USMAN BIN HABIB\n",
      "usman bin habib\n"
     ]
    }
   ],
   "source": [
    "name = \"Usman Bin Habib\"\n",
    "print(name.upper())\n",
    "print(name.lower())"
   ]
  },
  {
   "cell_type": "code",
   "execution_count": 22,
   "id": "9693b820",
   "metadata": {},
   "outputs": [
    {
     "name": "stdout",
     "output_type": "stream",
     "text": [
      "Hello, Usman Habib!\n"
     ]
    }
   ],
   "source": [
    "first_name = \"usman\"\n",
    "last_name = \"habib\"\n",
    "full_name = first_name + \" \" + last_name\n",
    "print(\"Hello, \" + full_name.title() + \"!\")"
   ]
  },
  {
   "cell_type": "code",
   "execution_count": 23,
   "id": "51b4f48c",
   "metadata": {},
   "outputs": [
    {
     "name": "stdout",
     "output_type": "stream",
     "text": [
      "Hello, Usman Habib!\n"
     ]
    }
   ],
   "source": [
    "first_name = \"usman\"\n",
    "last_name = \"habib\"\n",
    "full_name = first_name + \" \" + last_name\n",
    "message = \"Hello, \" + full_name.title() + \"!\"\n",
    "print(message)"
   ]
  },
  {
   "cell_type": "code",
   "execution_count": 24,
   "id": "3a9b3716",
   "metadata": {},
   "outputs": [
    {
     "name": "stdout",
     "output_type": "stream",
     "text": [
      "python\n",
      "\tpython\n"
     ]
    }
   ],
   "source": [
    "print(\"python\")\n",
    "print(\"\\tpython\")"
   ]
  },
  {
   "cell_type": "code",
   "execution_count": 26,
   "id": "8c03c85a",
   "metadata": {},
   "outputs": [
    {
     "name": "stdout",
     "output_type": "stream",
     "text": [
      "\n",
      "python,\n",
      "python\n"
     ]
    }
   ],
   "source": [
    "print(\"\\npython,\\npython\")"
   ]
  },
  {
   "cell_type": "code",
   "execution_count": 27,
   "id": "5080617a",
   "metadata": {},
   "outputs": [
    {
     "name": "stdout",
     "output_type": "stream",
     "text": [
      "Languages:\n",
      "Python\n",
      "C\n",
      "JavaScript\n"
     ]
    }
   ],
   "source": [
    "print(\"Languages:\\nPython\\nC\\nJavaScript\")"
   ]
  },
  {
   "cell_type": "code",
   "execution_count": 31,
   "id": "2f348d78",
   "metadata": {},
   "outputs": [],
   "source": [
    "favorite_language = 'python      ' "
   ]
  },
  {
   "cell_type": "code",
   "execution_count": 32,
   "id": "a709251c",
   "metadata": {},
   "outputs": [
    {
     "data": {
      "text/plain": [
       "'python      '"
      ]
     },
     "execution_count": 32,
     "metadata": {},
     "output_type": "execute_result"
    }
   ],
   "source": [
    "favorite_language"
   ]
  },
  {
   "cell_type": "code",
   "execution_count": 33,
   "id": "2049ccef",
   "metadata": {},
   "outputs": [
    {
     "data": {
      "text/plain": [
       "'python'"
      ]
     },
     "execution_count": 33,
     "metadata": {},
     "output_type": "execute_result"
    }
   ],
   "source": [
    "# when rstrip method act on variable then extra space is removed.\n",
    "\n",
    "favorite_language.rstrip()"
   ]
  },
  {
   "cell_type": "raw",
   "id": "78b37aa3",
   "metadata": {},
   "source": [
    "2-3. Personal Message: Store a person’s name in a variable, and print a messsage to that person. Your message should be simple, such as, “Hello Eric, would you like to learn some Python today?\"\""
   ]
  },
  {
   "cell_type": "code",
   "execution_count": 34,
   "id": "c995dbfb",
   "metadata": {},
   "outputs": [
    {
     "name": "stdout",
     "output_type": "stream",
     "text": [
      "Hello Usman, would you like to learn some Python today\n"
     ]
    }
   ],
   "source": [
    "message= \"Hello Usman, would you like to learn some Python today\"\n",
    "print(message)"
   ]
  },
  {
   "cell_type": "raw",
   "id": "ff2cf476",
   "metadata": {},
   "source": [
    "2-4. Name Cases: Store a person’s name in a variable, and then print that per\u0002son’s name in lowercase, uppercase, and titlecase."
   ]
  },
  {
   "cell_type": "code",
   "execution_count": 36,
   "id": "6c9b1258",
   "metadata": {},
   "outputs": [
    {
     "name": "stdout",
     "output_type": "stream",
     "text": [
      "usman bin habib\n",
      "USMAN BIN HABIB\n",
      "Usman Bin Habib\n"
     ]
    }
   ],
   "source": [
    "name=\"usman bin habib\"\n",
    "\n",
    "print(name.lower())\n",
    "print(name.upper())\n",
    "print(name.title())"
   ]
  },
  {
   "cell_type": "raw",
   "id": "c988aa93",
   "metadata": {},
   "source": [
    "2-5. Famous Quote: Find a quote from a famous person you admire. Print the quote and the name of its author. Your output should look something like the following, including the quotation marks:\n",
    "Albert Einstein once said, “A person who never made a mistake never tried anything new.”\n"
   ]
  },
  {
   "cell_type": "code",
   "execution_count": 2,
   "id": "82fca858",
   "metadata": {},
   "outputs": [
    {
     "data": {
      "text/plain": [
       "'Albert Einstein once said, “A person who never made a mistake never tried anything new.”'"
      ]
     },
     "execution_count": 2,
     "metadata": {},
     "output_type": "execute_result"
    }
   ],
   "source": [
    "said = \"Albert Einstein once said, “A person who never made a mistake never tried anything new.”\"\n",
    "said"
   ]
  },
  {
   "cell_type": "raw",
   "id": "df2568db",
   "metadata": {},
   "source": [
    "2-6. Famous Quote 2: Repeat Exercise 2-5, but this time store the famous peroson’s name in a variable called famous_person. Then compose your message and store it in a new variable called message. Print your message."
   ]
  },
  {
   "cell_type": "code",
   "execution_count": 12,
   "id": "0159c62b",
   "metadata": {},
   "outputs": [
    {
     "name": "stdout",
     "output_type": "stream",
     "text": [
      "Albert Einstein once said, 'A person who never made a mistake never tried anything new.'\n"
     ]
    }
   ],
   "source": [
    "famous_person = \"Albert Einstein\"\n",
    "message = \"'A person who never made a mistake never tried anything new.'\"\n",
    "print(\"{0} once said, {1}\".format(famous_person, message))"
   ]
  },
  {
   "cell_type": "code",
   "execution_count": 14,
   "id": "413f6001",
   "metadata": {},
   "outputs": [
    {
     "name": "stdout",
     "output_type": "stream",
     "text": [
      "Albert Einsteinonce said, “A person who never made a mistake never tried anything new.”\n"
     ]
    }
   ],
   "source": [
    "famous_person = 'Albert Einstein'\n",
    "message = famous_person + 'once said, “A person who never made a mistake never tried anything new.”'\n",
    "print(message)"
   ]
  },
  {
   "cell_type": "raw",
   "id": "12c8b0b0",
   "metadata": {},
   "source": [
    "2-7. Stripping Names: Store a person’s name, and include some whitespace characters at the beginning and end of the name. Make sure you use each character combination, \"\\t\" and \"\\n\", at least once.\n",
    "Print the name once, so the whitespace around the name is displayed.\n",
    "Then print the name using each of the three stripping functions, lstrip(), \n",
    "rstrip(), and strip()"
   ]
  },
  {
   "cell_type": "code",
   "execution_count": 30,
   "id": "07ae64be",
   "metadata": {},
   "outputs": [
    {
     "name": "stdout",
     "output_type": "stream",
     "text": [
      "\tUsman Bin Habib\n",
      "        \n",
      "Usman Bin Habib\n",
      "\tUsman Bin Habib\n",
      "Usman Bin Habib\n",
      "        \n"
     ]
    }
   ],
   "source": [
    "name = \"\\tUsman Bin Habib\\n        \"\n",
    "print(name)\n",
    "print(name.strip())\n",
    "print(name.rstrip())\n",
    "print(name.lstrip())"
   ]
  },
  {
   "cell_type": "raw",
   "id": "89332b6c",
   "metadata": {},
   "source": [
    "2-8. Number Eight: Write addition, subtraction, multiplication, and division operations that each result in the number 8. Be sure to enclose your operations in print statements to see the results. You should create four lines that look like this: print(5 + 3)\n",
    "Your output should simply be four lines with the number 8 appearing once \n",
    "on each line."
   ]
  },
  {
   "cell_type": "code",
   "execution_count": 31,
   "id": "34ecaf44",
   "metadata": {},
   "outputs": [
    {
     "name": "stdout",
     "output_type": "stream",
     "text": [
      "8\n",
      "8\n",
      "8\n",
      "8\n"
     ]
    }
   ],
   "source": [
    "print(2 + 6)\n",
    "print(9 - 1)\n",
    "print(2 * 4)\n",
    "print(int(16/2))"
   ]
  },
  {
   "cell_type": "raw",
   "id": "ad788874",
   "metadata": {},
   "source": [
    "2-9. Favorite Number: Store your favorite number in a variable. Then, using that variable, create a message that reveals your favorite number. Print that message."
   ]
  },
  {
   "cell_type": "code",
   "execution_count": 52,
   "id": "e71b19b1",
   "metadata": {},
   "outputs": [
    {
     "name": "stdout",
     "output_type": "stream",
     "text": [
      "My favorite number is 7\n"
     ]
    }
   ],
   "source": [
    "fav_num = 7\n",
    "message = \"My favorite number is \" + str(fav_num)\n",
    "print(message)"
   ]
  }
 ],
 "metadata": {
  "kernelspec": {
   "display_name": "Python 3 (ipykernel)",
   "language": "python",
   "name": "python3"
  },
  "language_info": {
   "codemirror_mode": {
    "name": "ipython",
    "version": 3
   },
   "file_extension": ".py",
   "mimetype": "text/x-python",
   "name": "python",
   "nbconvert_exporter": "python",
   "pygments_lexer": "ipython3",
   "version": "3.9.12"
  }
 },
 "nbformat": 4,
 "nbformat_minor": 5
}
